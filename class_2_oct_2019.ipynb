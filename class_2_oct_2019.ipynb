{
 "cells": [
  {
   "cell_type": "code",
   "execution_count": 10,
   "metadata": {},
   "outputs": [
    {
     "name": "stdout",
     "output_type": "stream",
     "text": [
      "Enter Your Age : 55\n",
      "Allow to ride...!!!\n"
     ]
    }
   ],
   "source": [
    "age = input('Enter Your Age : ');\n",
    "if int(age) >= 18:\n",
    "    print('Allow to ride...!!!');\n",
    "else :\n",
    "    print('Not allowed ....');\n",
    "    "
   ]
  },
  {
   "cell_type": "code",
   "execution_count": 14,
   "metadata": {},
   "outputs": [
    {
     "name": "stdout",
     "output_type": "stream",
     "text": [
      "Wrong\n"
     ]
    }
   ],
   "source": [
    "a = 30\n",
    "b = 8\n",
    "x = 10\n",
    "y = 12\n",
    "\n",
    "if x + y != a - b :\n",
    "    print('Correct')\n",
    "else:\n",
    "    print('Wrong')\n",
    "\n"
   ]
  },
  {
   "cell_type": "code",
   "execution_count": null,
   "metadata": {},
   "outputs": [],
   "source": [
    "per = int(input('Input Percentage : '))\n",
    "if per >= 80 :\n",
    "    print('A+');\n",
    "elif per >=70 and per < 80 :\n",
    "    print('A');\n",
    "elif per >= 60 and per < 60 :\n",
    "    print('B');\n",
    "elif per > 0 and per < 60 :\n",
    "    print('Fail')\n",
    "else :\n",
    "    print('Please enter proper PERCENTAGE...');"
   ]
  },
  {
   "cell_type": "code",
   "execution_count": 1,
   "metadata": {},
   "outputs": [
    {
     "name": "stdout",
     "output_type": "stream",
     "text": [
      "['Azhar', 'Umer', False, 9.8, 100]\n"
     ]
    }
   ],
   "source": [
    "arr = ['Azhar','Umer',False,9.8,100]\n",
    "print(arr)"
   ]
  },
  {
   "cell_type": "code",
   "execution_count": 8,
   "metadata": {},
   "outputs": [
    {
     "name": "stdout",
     "output_type": "stream",
     "text": [
      "[100, 9.8, False, 'Umer', 'Azhar']\n"
     ]
    }
   ],
   "source": [
    "print(arr[::-1])"
   ]
  },
  {
   "cell_type": "code",
   "execution_count": 13,
   "metadata": {},
   "outputs": [
    {
     "name": "stdout",
     "output_type": "stream",
     "text": [
      "['Azhar', 'Umer', False]\n"
     ]
    }
   ],
   "source": [
    "print(arr[:3])"
   ]
  },
  {
   "cell_type": "code",
   "execution_count": null,
   "metadata": {},
   "outputs": [],
   "source": []
  }
 ],
 "metadata": {
  "kernelspec": {
   "display_name": "Python 3",
   "language": "python",
   "name": "python3"
  },
  "language_info": {
   "codemirror_mode": {
    "name": "ipython",
    "version": 3
   },
   "file_extension": ".py",
   "mimetype": "text/x-python",
   "name": "python",
   "nbconvert_exporter": "python",
   "pygments_lexer": "ipython3",
   "version": "3.7.4"
  }
 },
 "nbformat": 4,
 "nbformat_minor": 2
}
