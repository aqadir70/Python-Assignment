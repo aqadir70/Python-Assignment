{
 "cells": [
  {
   "cell_type": "code",
   "execution_count": 7,
   "metadata": {},
   "outputs": [
    {
     "name": "stdout",
     "output_type": "stream",
     "text": [
      "Enter Number to find Odd or Even : 7\n",
      "The number 7 is Odd\n"
     ]
    }
   ],
   "source": [
    "#### Q - 2\n",
    "no1 = int(input('Enter Number to find Odd or Even : '));\n",
    "if no1 % 2 != 0:\n",
    "    print('The number ' + str(no1) + ' is Odd');\n",
    "else:\n",
    "    print('The number ' + str(no1) + ' is Even');"
   ]
  },
  {
   "cell_type": "code",
   "execution_count": 19,
   "metadata": {},
   "outputs": [
    {
     "name": "stdout",
     "output_type": "stream",
     "text": [
      "The Length of List is : 4\n",
      "The sum of numbers in a list is 7\n"
     ]
    }
   ],
   "source": [
    "#### Q - 3 / 4\n",
    "lst = ['1','2','4','A']\n",
    "print('The Length of List is : ' + str(len(lst)))\n",
    "summ = 0;\n",
    "for no in lst:\n",
    "    if no.isdigit():\n",
    "        summ += int(no);\n",
    "print('The sum of numbers in a list is ' + str(summ));"
   ]
  },
  {
   "cell_type": "code",
   "execution_count": 24,
   "metadata": {},
   "outputs": [
    {
     "name": "stdout",
     "output_type": "stream",
     "text": [
      "The Largets number in list is 76\n"
     ]
    }
   ],
   "source": [
    "#### Q - 5\n",
    "lst = [1,3,44,23,76,11,12,45];\n",
    "print('The Largets number in list is ' + str(max(lst)));"
   ]
  },
  {
   "cell_type": "code",
   "execution_count": 27,
   "metadata": {},
   "outputs": [
    {
     "name": "stdout",
     "output_type": "stream",
     "text": [
      "[1, 1, 2, 3]\n"
     ]
    }
   ],
   "source": [
    "#### Q - 6\n",
    "a = [1, 1, 2, 3, 5, 8, 13, 21, 34, 55, 89]\n",
    "lst = [];\n",
    "for no in a:\n",
    "    ##print(no)\n",
    "    if no < 5:\n",
    "        lst.append(no);\n",
    "\n",
    "print(lst);\n",
    "    "
   ]
  },
  {
   "cell_type": "code",
   "execution_count": 32,
   "metadata": {},
   "outputs": [
    {
     "name": "stdout",
     "output_type": "stream",
     "text": [
      "Enter Maths Marks :78\n",
      "Enter English Marks : 33\n",
      "Enter Physics Marks : 34\n",
      "The Total Marks obtained 145\n",
      "48.333333333333336\n",
      "Fail\n"
     ]
    }
   ],
   "source": [
    "#### Q - 1\n",
    "math = int(input('Enter Maths Marks :'));\n",
    "eng  = int(input('Enter English Marks : '));\n",
    "phy  = int(input('Enter Physics Marks : '));\n",
    "tot =  math + eng + phy;\n",
    "print('The Total Marks obtained ' + str(math + eng + phy) + 'Out of 300.');\n",
    "percnt = (tot / 300) * 100;\n",
    "print(percnt);\n",
    "if percnt > 80 :\n",
    "    grade = 'A1'\n",
    "elif percnt > 70 and percnt < 80 :\n",
    "    gradd = 'A'\n",
    "elif percnt > 60 and percnt < 70 :\n",
    "    grade = 'B'\n",
    "else :\n",
    "    grade = 'Fail'\n",
    "\n",
    "print(grade);"
   ]
  },
  {
   "cell_type": "code",
   "execution_count": null,
   "metadata": {},
   "outputs": [],
   "source": []
  }
 ],
 "metadata": {
  "kernelspec": {
   "display_name": "Python 3",
   "language": "python",
   "name": "python3"
  },
  "language_info": {
   "codemirror_mode": {
    "name": "ipython",
    "version": 3
   },
   "file_extension": ".py",
   "mimetype": "text/x-python",
   "name": "python",
   "nbconvert_exporter": "python",
   "pygments_lexer": "ipython3",
   "version": "3.7.4"
  }
 },
 "nbformat": 4,
 "nbformat_minor": 2
}
