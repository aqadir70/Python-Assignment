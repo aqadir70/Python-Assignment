{
 "cells": [
  {
   "cell_type": "code",
   "execution_count": null,
   "metadata": {},
   "outputs": [],
   "source": [
    "## Q - 5\n",
    "class Car():\n",
    "    def __init__(self,make, model, color, year, cc):\n",
    "        self.make = make\n",
    "        self.model = model\n",
    "        self.color = color\n",
    "        self.year = year\n",
    "        self.seat = cc\n",
    "        self.value = 1000000\n",
    "    \n",
    "    def set_car_value(self, value):\n",
    "        self.value = value\n",
    "        \n",
    "    def get_car_value(self)\n",
    "        \n",
    "        \n",
    "        "
   ]
  },
  {
   "cell_type": "code",
   "execution_count": null,
   "metadata": {},
   "outputs": [],
   "source": [
    "Answer 1: \n",
    "Object-oriented programming, commonly shortened to OOP, refers to a type of computer programming in which programmers or coders define the data type of a data structure. They additionally define the types of operations (also called functions) that can be applied to the data structure. In this way, the data structure becomes an object that includes both data and functions. In addition, programmers can create relationships between one object and another. For example, objects can inherit characteristics from other objects.\n",
    "\n",
    "Answer 2: \n",
    "•\tOOP provides a clear modular structure for programs.\n",
    "•\tIt is good for defining abstract data types.\n",
    "•\tImplementation details are hidden from other modules and other modules has a clearly defined interface.\n",
    "•\tIt is easy to maintain and modify existing code as new objects can be created with small differences to existing ones.\n",
    "•\tCode can be reused. Simply, make a change to your class and all objects will inherit the change. The code can be reused again and again. \n",
    "•\tFunctions and data can be binded into simpler forms called classes. \n",
    "\n",
    "Answer 3: \n",
    "Method and a function are the same, with different terms. A method is a procedure or function in object-oriented programming. A function is a group of reusable code which can be called anywhere in your program. This eliminates the need for writing the same code repeatedly. On other hand, method is called by its name, but it is associated to an object (dependent).  A method is implicitly called on the object on which it is invoked. It may or may not return any data. Similarly, a function may or may not have a return data. Function has specific parameters. Data is passed onto a function explicitly.\n",
    "\n",
    "Answer 4:  \n",
    "Class: A category of objects. The class defines all the common properties of the different objects that belong to it.\n",
    "Object: a self-contained entity that consists of both data and procedures to manipulate the data.\n",
    "Attributes: It is data stored inside a class or instance and represent the state or quality of the class or instance. In short, attributes store information about the instance.\n",
    "Behavior: It determines how an instance of that class operates; for example, how it will \"react\" if asked to do something by another class or object or if its internal state changes. Behavior is the only way objects can do anything to themselves or have anything done to them.\n"
   ]
  }
 ],
 "metadata": {
  "kernelspec": {
   "display_name": "Python 3",
   "language": "python",
   "name": "python3"
  },
  "language_info": {
   "codemirror_mode": {
    "name": "ipython",
    "version": 3
   },
   "file_extension": ".py",
   "mimetype": "text/x-python",
   "name": "python",
   "nbconvert_exporter": "python",
   "pygments_lexer": "ipython3",
   "version": "3.7.4"
  }
 },
 "nbformat": 4,
 "nbformat_minor": 2
}
