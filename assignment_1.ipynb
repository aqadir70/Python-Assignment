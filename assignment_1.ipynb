{
 "cells": [
  {
   "cell_type": "code",
   "execution_count": null,
   "metadata": {},
   "outputs": [],
   "source": [
    "## Q - 1"
   ]
  },
  {
   "cell_type": "code",
   "execution_count": 1,
   "metadata": {},
   "outputs": [
    {
     "name": "stdout",
     "output_type": "stream",
     "text": [
      "Twinkle, twinkle, little star,\n",
      "\tHow I wonder what you are!\n",
      "\t\tUp above the world so high,\n",
      "\t\tLike a diamond in the sky.\n",
      "Twinkle, twinkle, little star,\n",
      "\tHow I wonder what you are\n"
     ]
    }
   ],
   "source": [
    "print('Twinkle, twinkle, little star,');\n",
    "print('\\tHow I wonder what you are!');\n",
    "print('\\t\\tUp above the world so high,');\n",
    "print('\\t\\tLike a diamond in the sky.');\n",
    "print('Twinkle, twinkle, little star,');\n",
    "print('\\tHow I wonder what you are');"
   ]
  },
  {
   "cell_type": "code",
   "execution_count": null,
   "metadata": {},
   "outputs": [],
   "source": [
    "#### Q - 2"
   ]
  },
  {
   "cell_type": "code",
   "execution_count": 7,
   "metadata": {},
   "outputs": [
    {
     "name": "stdout",
     "output_type": "stream",
     "text": [
      "3.7.4 (default, Aug  9 2019, 18:34:13) [MSC v.1915 64 bit (AMD64)]\n"
     ]
    }
   ],
   "source": [
    "import sys\n",
    "print(sys.version)"
   ]
  },
  {
   "cell_type": "code",
   "execution_count": null,
   "metadata": {},
   "outputs": [],
   "source": [
    "## Q - 3"
   ]
  },
  {
   "cell_type": "code",
   "execution_count": 23,
   "metadata": {},
   "outputs": [
    {
     "name": "stdout",
     "output_type": "stream",
     "text": [
      "System Date/Time :  2019-10-31 00:04:51.586539\n",
      "Formatted System Date/Time : 31/10/19 00:04:51\n"
     ]
    }
   ],
   "source": [
    "from datetime import datetime\n",
    "print('System Date/Time : ', datetime.now() )\n",
    "print('Formatted System Date/Time :' ,datetime.now().strftime('%d/%m/%y %H:%M:%S'))"
   ]
  },
  {
   "cell_type": "code",
   "execution_count": null,
   "metadata": {},
   "outputs": [],
   "source": [
    "## Q - 4"
   ]
  },
  {
   "cell_type": "code",
   "execution_count": 5,
   "metadata": {},
   "outputs": [
    {
     "name": "stdout",
     "output_type": "stream",
     "text": [
      "Enter Radisu of Circle :8\n",
      "Area of the Circle of the given radius  8  is  200.96\n"
     ]
    }
   ],
   "source": [
    "radius = int(input('Enter Radisu of Circle :' ));\n",
    "area = 3.14 * (radius ** 2); \n",
    "print('Area of the Circle of the given radius ' , str(radius) , ' is ' , str(area));"
   ]
  },
  {
   "cell_type": "code",
   "execution_count": null,
   "metadata": {},
   "outputs": [],
   "source": [
    "## Q - 5"
   ]
  },
  {
   "cell_type": "code",
   "execution_count": 16,
   "metadata": {},
   "outputs": [
    {
     "name": "stdout",
     "output_type": "stream",
     "text": [
      "Enter First Name :Rehman\n",
      "Enter Last Name Zubair\n",
      "riabuZ namheR\n",
      "First Name , Last Name :  Rehman   Zubair\n",
      "Reversed Order First / Last Mame :  riabuZ namheR\n"
     ]
    }
   ],
   "source": [
    "first_nm = input('Enter First Name :');\n",
    "last_nm = input('Enter Last Name ');\n",
    "## Using Slice \n",
    "print((first_nm + ' ' + last_nm) [::-1]) \n",
    "## Using loop\n",
    "st = '';\n",
    "for char in first_nm + ' ' + last_nm:\n",
    "    st = char + st;\n",
    "print('First Name , Last Name : ' , first_nm , ' ' , last_nm);\n",
    "print('Reversed Order First / Last Mame : ' , st)\n",
    "    "
   ]
  },
  {
   "cell_type": "code",
   "execution_count": null,
   "metadata": {},
   "outputs": [],
   "source": [
    "## Q - 6"
   ]
  },
  {
   "cell_type": "code",
   "execution_count": 17,
   "metadata": {},
   "outputs": [
    {
     "name": "stdout",
     "output_type": "stream",
     "text": [
      "Enter Value 1 : 10\n",
      "Enter Value 2 :10\n",
      "Addtion :  20\n"
     ]
    }
   ],
   "source": [
    "val1 = int(input('Enter Value 1 : '));\n",
    "val2 = int(input('Enter Value 2 :'));\n",
    "print('Addtion : ', val1 + val2);"
   ]
  },
  {
   "cell_type": "code",
   "execution_count": null,
   "metadata": {},
   "outputs": [],
   "source": []
  }
 ],
 "metadata": {
  "kernelspec": {
   "display_name": "Python 3",
   "language": "python",
   "name": "python3"
  },
  "language_info": {
   "codemirror_mode": {
    "name": "ipython",
    "version": 3
   },
   "file_extension": ".py",
   "mimetype": "text/x-python",
   "name": "python",
   "nbconvert_exporter": "python",
   "pygments_lexer": "ipython3",
   "version": "3.7.4"
  }
 },
 "nbformat": 4,
 "nbformat_minor": 2
}
