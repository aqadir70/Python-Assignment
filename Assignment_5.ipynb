{
 "cells": [
  {
   "cell_type": "code",
   "execution_count": 13,
   "metadata": {},
   "outputs": [
    {
     "name": "stdout",
     "output_type": "stream",
     "text": [
      "Enter Number to find Factorial :5\n",
      "Factorial of Number 5 - is - 120\n"
     ]
    }
   ],
   "source": [
    "## Q - 1\n",
    "def faktorial(num):\n",
    "    fact = 1;\n",
    "    if num < 0:\n",
    "        print(\"Factorial cannot be found for negative numbers\");\n",
    "    elif num == 0:\n",
    "        return 1; #print(\"Factorial of 0 is 1\");\n",
    "    else:\n",
    "        for i in range(1, num + 1):\n",
    "            fact *= i;\n",
    "        return fact;\n",
    "\n",
    "no = int(input(\"Enter Number to find Factorial :\"))\n",
    "print(\"Factorial of Number {} - is - {}\".format(no,faktorial(no)))\n",
    "        "
   ]
  },
  {
   "cell_type": "code",
   "execution_count": 22,
   "metadata": {},
   "outputs": [
    {
     "name": "stdout",
     "output_type": "stream",
     "text": [
      "upper 5\n",
      "lower 8\n"
     ]
    }
   ],
   "source": [
    "## Q - 2\n",
    "str1 = 'ABcdefGHijklM'\n",
    "\n",
    "def count_upper_lower(str):\n",
    "    \n",
    "    ucount = 0;\n",
    "    lcount = 0;\n",
    "    dic = {}\n",
    "    for i in str1:\n",
    "        if i.isupper() == True:\n",
    "            ucount += 1;\n",
    "        else:\n",
    "            lcount += 1;\n",
    "    dic['upper'] = ucount;\n",
    "    dic['lower'] = lcount;\n",
    "    return dic\n",
    "\n",
    "for kee,val in count_upper_lower(str1).items():\n",
    "        print(kee, val)\n",
    "#print(count_upper_lower(str1))\n",
    "\n",
    "    "
   ]
  },
  {
   "cell_type": "code",
   "execution_count": 20,
   "metadata": {},
   "outputs": [
    {
     "name": "stdout",
     "output_type": "stream",
     "text": [
      "The Even numbers in a give list :  [4, 12, 56, 66]\n"
     ]
    }
   ],
   "source": [
    "## Q - 3\n",
    "\n",
    "\n",
    "def find_even(lst):\n",
    "    lst1 = []\n",
    "    for num in lst:\n",
    "        #print(num);\n",
    "        if num % 2 == 0:\n",
    "            lst1.append(num)\n",
    "    return lst1;\n",
    "\n",
    "lst = [3,4,55,12,5,7,56,66]\n",
    "\n",
    "print(\"The Even numbers in a give list : \", find_even(lst))\n",
    "    "
   ]
  },
  {
   "cell_type": "code",
   "execution_count": 11,
   "metadata": {},
   "outputs": [
    {
     "name": "stdout",
     "output_type": "stream",
     "text": [
      "Enter Number to check Prime or Not :11\n",
      "The given numer - 11 is Prime\n"
     ]
    }
   ],
   "source": [
    "## Q - 5\n",
    "\n",
    "def is_prime(num):\n",
    "    if num > 1:\n",
    "        for i in range(2,num):\n",
    "            if (num % i) == 0:\n",
    "                ret = \"not prime\"\n",
    "                break;\n",
    "                \n",
    "            else:\n",
    "                ret = \"Prime\"\n",
    "    else:\n",
    "            ret  =  \"not Prime\"\n",
    "    return ret\n",
    "no = int(input(\"Enter Number to check Prime or Not :\")) ;\n",
    "print(\"The given numer - {} is {}\".format(no,is_prime(no)))\n",
    "#print(\"The number 6 is \" , is_prime(6))"
   ]
  },
  {
   "cell_type": "code",
   "execution_count": 6,
   "metadata": {},
   "outputs": [
    {
     "name": "stdout",
     "output_type": "stream",
     "text": [
      "The given string madam is Palindrome True\n"
     ]
    }
   ],
   "source": [
    "## Q - 4\n",
    "str = 'madam'\n",
    "def is_palindrome(str):\n",
    "    str1 = str[::-1]\n",
    "    if str == str1:\n",
    "        return True; #print(\"The given work/phrase {} is palindrome as {}\".format(str, str1))\n",
    "    else:\n",
    "        return False; #print(\"Not palindrome\")\n",
    "\n",
    "print(\"The given string {} is Palindrome {}\".format(str,is_palindrome(str)))"
   ]
  },
  {
   "cell_type": "code",
   "execution_count": 5,
   "metadata": {},
   "outputs": [
    {
     "name": "stdout",
     "output_type": "stream",
     "text": [
      "Cards\n",
      "Shirt\n",
      "Coat\n",
      "T-Shirt\n",
      "Shoe\n"
     ]
    }
   ],
   "source": [
    "### Q - 6\n",
    "def print_shopping_list(*args):\n",
    "    for i in args:\n",
    "        print(i)\n",
    "\n",
    "print_shopping_list('Cards','Shirt','Coat','T-Shirt','Shoe')        \n",
    "    "
   ]
  },
  {
   "cell_type": "code",
   "execution_count": null,
   "metadata": {},
   "outputs": [],
   "source": []
  }
 ],
 "metadata": {
  "kernelspec": {
   "display_name": "Python 3",
   "language": "python",
   "name": "python3"
  },
  "language_info": {
   "codemirror_mode": {
    "name": "ipython",
    "version": 3
   },
   "file_extension": ".py",
   "mimetype": "text/x-python",
   "name": "python",
   "nbconvert_exporter": "python",
   "pygments_lexer": "ipython3",
   "version": "3.7.4"
  }
 },
 "nbformat": 4,
 "nbformat_minor": 2
}
