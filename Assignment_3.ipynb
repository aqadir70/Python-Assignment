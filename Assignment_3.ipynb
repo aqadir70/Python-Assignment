{
 "cells": [
  {
   "cell_type": "code",
   "execution_count": 16,
   "metadata": {},
   "outputs": [
    {
     "name": "stdout",
     "output_type": "stream",
     "text": [
      "Calculator\n",
      "\t 1 - Add \n",
      " \t 2 - Subtract \n",
      " \t 3 - Multiply \n",
      " \t 4 - Divison \n",
      "\t 5 - Power\n",
      "Choose Math option : 5\n",
      "Enter First number: 5\n",
      "Enter second number: 6\n",
      "5 ** 6  =  15625\n"
     ]
    }
   ],
   "source": [
    "## Q - 1\n",
    "print('Calculator');\n",
    "print('\\t 1 - Add \\n\\t 2 - Subtract \\n\\t 3 - Multiply \\n\\t 4 - Divison \\n\\t 5 - Power');\n",
    "\n",
    "opt = int(input('Choose Math option : '));\n",
    "\n",
    "x = int(input(\"Enter First number: \"));\n",
    "y = int(input(\"Enter second number: \"));\n",
    "\n",
    "if opt == 1:\n",
    "    print(x , '+', y, ' = ', x + y);\n",
    "if opt == 2:\n",
    "    print(x, '-', y, ' = ' , x - y);\n",
    "if opt == 3:\n",
    "    print(x, '*', y, ' = ' , x * y);\n",
    "if opt == 4 :\n",
    "    if y == 0:\n",
    "        print('Invalid Denominator - y');\n",
    "    else:    \n",
    "        print(x, '/', y, ' = ' , x / y);\n",
    "if opt == 5:\n",
    "    print(x, '**', y, ' = ' , x ** y);\n",
    "    "
   ]
  },
  {
   "cell_type": "code",
   "execution_count": 31,
   "metadata": {},
   "outputs": [
    {
     "name": "stdout",
     "output_type": "stream",
     "text": [
      "4\n",
      "5\n",
      "x\n",
      "55\n",
      "g\n",
      "['4', '5', '55']\n"
     ]
    }
   ],
   "source": [
    "## Q - 2\n",
    "lst = ['4','5','x','55','g'];\n",
    "lst1 = [];\n",
    "for n in range(len(lst)):\n",
    "#    print(n);\n",
    "#    print(lst[n])\n",
    "    if lst[n].isdigit():\n",
    "        lst1.append(lst[n]);\n",
    "print(lst1)"
   ]
  },
  {
   "cell_type": "code",
   "execution_count": 7,
   "metadata": {},
   "outputs": [
    {
     "name": "stdout",
     "output_type": "stream",
     "text": [
      "{'Asim': 24, 'Hasan': 25, 'Faisal': 28}\n",
      "Sum of dic Values 77\n",
      "24\n",
      "25\n",
      "28\n",
      "77\n"
     ]
    }
   ],
   "source": [
    "## Q - 4\n",
    "# 1\n",
    "dic = {'Asim':24, 'Hasan':25,'Faisal':28}\n",
    "print(dic)\n",
    "print('Sum of dic Values',sum(dic.values()));\n",
    "# 2\n",
    "dicTotal = 0;\n",
    "for i in dic.values():\n",
    "    #print(i)\n",
    "    dicTotal += i;\n",
    "print(dicTotal)\n",
    "    "
   ]
  },
  {
   "cell_type": "code",
   "execution_count": 10,
   "metadata": {},
   "outputs": [
    {
     "name": "stdout",
     "output_type": "stream",
     "text": [
      "{'Maths': 78, 'Physics': 88, 'Chemistry': 76}\n",
      "{'Maths': 78, 'Physics': 88, 'Chemistry': 76, 'English': 70, 'Urdu': 59}\n"
     ]
    }
   ],
   "source": [
    "# Q - 3\n",
    "dic = {'Maths':78,'Physics':88,'Chemistry':76};\n",
    "print(dic)\n",
    "dic['English'] = 70;\n",
    "dic['Urdu'] = 59;\n",
    "print(dic)"
   ]
  },
  {
   "cell_type": "code",
   "execution_count": 29,
   "metadata": {},
   "outputs": [
    {
     "name": "stdout",
     "output_type": "stream",
     "text": [
      "[3, 2, 6, 44]\n"
     ]
    }
   ],
   "source": [
    "# Q - 5\n",
    "\n",
    "##lst2 = [2,5,2,4,6,4,6];\n",
    "#lst3 = [3,4,5,1,6,7];\n",
    "#print(lst2[0]);\n",
    "#print(lst2[0]  in lst3);\n",
    "\n",
    "lst = [3,2,5,6,44,3,4,2,44,2,6];\n",
    "lst1= [];\n",
    "\n",
    "for i in range(len(lst)):\n",
    "    #print(lst[i])\n",
    "    for j in range(i+1,len(lst)):\n",
    "        if lst[i] == lst[j] and lst[i] not in lst1 :\n",
    "                lst1.append(lst[i])\n",
    "print(lst1)"
   ]
  },
  {
   "cell_type": "code",
   "execution_count": 35,
   "metadata": {},
   "outputs": [
    {
     "name": "stdout",
     "output_type": "stream",
     "text": [
      "Enter key :Lit\n",
      "Enter Value :44\n",
      "Key does not exists, Key / Value updated in Dic.\n",
      "{'Maths': 78, 'Physics': 88, 'Chemistry': 76, 'Lit': '44'}\n"
     ]
    }
   ],
   "source": [
    "# Q - 6\n",
    "dic = {'Maths':78,'Physics':88,'Chemistry':76};\n",
    "kee = input('Enter key :');\n",
    "val = input('Enter Value :');\n",
    "if kee in dic.keys():\n",
    "    print('Key in Dic already exits with the Value',dic[kee]);\n",
    "else:\n",
    "    print('Key does not exists, Key / Value updated in Dic.');\n",
    "    dic[kee] = val;\n",
    "print(dic)\n",
    "    \n",
    "    "
   ]
  },
  {
   "cell_type": "code",
   "execution_count": null,
   "metadata": {},
   "outputs": [],
   "source": []
  },
  {
   "cell_type": "code",
   "execution_count": null,
   "metadata": {},
   "outputs": [],
   "source": []
  }
 ],
 "metadata": {
  "kernelspec": {
   "display_name": "Python 3",
   "language": "python",
   "name": "python3"
  },
  "language_info": {
   "codemirror_mode": {
    "name": "ipython",
    "version": 3
   },
   "file_extension": ".py",
   "mimetype": "text/x-python",
   "name": "python",
   "nbconvert_exporter": "python",
   "pygments_lexer": "ipython3",
   "version": "3.7.4"
  }
 },
 "nbformat": 4,
 "nbformat_minor": 2
}
