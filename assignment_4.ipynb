{
 "cells": [
  {
   "cell_type": "code",
   "execution_count": null,
   "metadata": {},
   "outputs": [],
   "source": [
    "### Q - 4\n",
    "def favorite_book(title):\n",
    "    print('My Favorite book is ', title);\n",
    "\n",
    "favorite_book('The World Order');"
   ]
  },
  {
   "cell_type": "code",
   "execution_count": 6,
   "metadata": {},
   "outputs": [
    {
     "name": "stdout",
     "output_type": "stream",
     "text": [
      "24\n",
      "Guess the correct number, your count is 1 : 25\n",
      "You select higher number...\n",
      "Guess the correct number, your count is 2 : 24\n",
      "Your Guess is correct.....\n"
     ]
    }
   ],
   "source": [
    "### Q - 5\n",
    "import random\n",
    "\n",
    "def guess_no(num):\n",
    "    if num == rand_no:\n",
    "        print('Your Guess is correct.....');\n",
    "    elif num > rand_no:\n",
    "        print('You select higher number...');\n",
    "    elif num < rand_no:\n",
    "        print('You select lowest number...');\n",
    "\n",
    "\n",
    "rand_no = random.randint(1,30);\n",
    "print(rand_no);\n",
    "count = 0;\n",
    "opt_1 = 0;\n",
    "while count <= 3 :\n",
    "    count += 1;\n",
    "    if count == 4:\n",
    "        print('Sorry...!!! Your guess is not correct.The correct number is ' + str(rand_no));\n",
    "        break;\n",
    "    opt_1 = int(input('Guess the correct number, your count is ' + str(count) + ' : '));\n",
    "    guess_no(opt_1)\n",
    "    if opt_1 == rand_no:\n",
    "        break;\n",
    "    \n"
   ]
  },
  {
   "cell_type": "code",
   "execution_count": null,
   "metadata": {},
   "outputs": [],
   "source": [
    "### Q - 1\n",
    "dic = {'first_name' : 'Ilyas',\n",
    "       'last_name' : 'Khan',\n",
    "       'age' : 19,\n",
    "       'city' : 'Karachi' \n",
    "       };\n",
    "print(dic);\n",
    "for kee,val in dic.items():\n",
    "    print(kee, val);\n",
    "\n",
    "dic['qualification'] = 'BSC';\n",
    "print(dic);\n",
    "dic['qualification'] = 'MPhil'\n",
    "print(dic);\n",
    "del dic['qualification'];\n",
    "print(dic)\n",
    "dic['qualification'] = 'MPhil'\n",
    "print(dic)\n",
    "dic.pop('qualification');\n",
    "print(dic)"
   ]
  },
  {
   "cell_type": "code",
   "execution_count": null,
   "metadata": {},
   "outputs": [],
   "source": [
    "### Q - 2 ### Dictionary / List\n",
    "dic1 = {'city' : ['New York', 'Karachi','London', 'Tokyo']}\n",
    "print(dic1)\n",
    "dict1 = {'Karachi' : ['Pakistan','22mil', 'Cheapest city to live'],\n",
    "         'Tokyo' : ['Japan','8.3mil', 'The largest metropolitan in the world'],\n",
    "          'New York' : ['USA','14.49mil','More than 800 languages are spoken']}\n",
    "print(dict1)"
   ]
  },
  {
   "cell_type": "code",
   "execution_count": null,
   "metadata": {},
   "outputs": [],
   "source": [
    "### Q - 2 ### Nested Dictionary \n",
    "cities = {'Karachi' : {'country':'Pakistan','population':'22mil','fact':'cheapest city to live'},\n",
    "          'Tokyo'   : {'country':'Japan','population':'8.3mil','fact':'The largest metropolitan in the world'},\n",
    "          'New York': {'country':'USA','population':'14.49mil','fact':'More than 800 languages are spoken'}}\n",
    "\n",
    "print(cities['Karachi']['population'])\n",
    "\n",
    "for city, city_info in cities.items():\n",
    "    print(\"\\nCity :\", city)\n",
    "    \n",
    "    for key in city_info:\n",
    "        print(key + ':', city_info[key])\n",
    "        \n"
   ]
  },
  {
   "cell_type": "code",
   "execution_count": null,
   "metadata": {},
   "outputs": [],
   "source": [
    "### Q - 3 ###\n",
    "while True:\n",
    "    nam = input('Enter your name for Theater Ticket BLANK for exit : ')\n",
    "    if nam == '':\n",
    "        break;\n",
    "    age = int(input('Enter your age for Ticket ZERO for exit : '));\n",
    "    if age < 3 and age >= 1:\n",
    "        ticket = 0;\n",
    "        \n",
    "    elif age <= 12 and age >= 3:\n",
    "        ticket = 10;\n",
    "        \n",
    "    elif age > 12:\n",
    "        ticket = 15;\n",
    "    elif age == 0:\n",
    "        break;\n",
    "    print('Hi, ' + nam + ' , the Ticket charge is $' + str(ticket));\n",
    "        \n",
    "\n",
    "    "
   ]
  },
  {
   "cell_type": "code",
   "execution_count": null,
   "metadata": {},
   "outputs": [],
   "source": []
  },
  {
   "cell_type": "code",
   "execution_count": null,
   "metadata": {},
   "outputs": [],
   "source": []
  }
 ],
 "metadata": {
  "kernelspec": {
   "display_name": "Python 3",
   "language": "python",
   "name": "python3"
  },
  "language_info": {
   "codemirror_mode": {
    "name": "ipython",
    "version": 3
   },
   "file_extension": ".py",
   "mimetype": "text/x-python",
   "name": "python",
   "nbconvert_exporter": "python",
   "pygments_lexer": "ipython3",
   "version": "3.7.4"
  }
 },
 "nbformat": 4,
 "nbformat_minor": 2
}
